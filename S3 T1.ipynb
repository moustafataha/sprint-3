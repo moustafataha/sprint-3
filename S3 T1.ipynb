{
 "cells": [
  {
   "cell_type": "code",
   "execution_count": 9,
   "id": "0164833d",
   "metadata": {},
   "outputs": [
    {
     "name": "stdout",
     "output_type": "stream",
     "text": [
      "1 2\n",
      "3 4\n",
      "(1, 3) (1, 4) (2, 3) (2, 4) "
     ]
    }
   ],
   "source": [
    "from itertools import product\n",
    "A = input().split()\n",
    "A = list(map(int,A))\n",
    "B = input().split()\n",
    "B = list(map(int, B))\n",
    "output = list(product(A,B))\n",
    "for i in output:\n",
    "    print(i, end = \" \")"
   ]
  },
  {
   "cell_type": "code",
   "execution_count": 12,
   "id": "92fbd121",
   "metadata": {},
   "outputs": [],
   "source": [
    "# itertools.permutations(iterable[, r])"
   ]
  },
  {
   "cell_type": "code",
   "execution_count": 11,
   "id": "8a8e0961",
   "metadata": {},
   "outputs": [
    {
     "name": "stdout",
     "output_type": "stream",
     "text": [
      "hack 2\n",
      "ac\n",
      "ah\n",
      "ak\n",
      "ca\n",
      "ch\n",
      "ck\n",
      "ha\n",
      "hc\n",
      "hk\n",
      "ka\n",
      "kc\n",
      "kh\n"
     ]
    }
   ],
   "source": [
    "# Enter your code here. Read input from STDIN. Print output to STDOUT\n",
    "from itertools import permutations\n",
    "\n",
    "s,k = input().split()\n",
    "\n",
    "words = list(permutations(s,int(k)))\n",
    "words = sorted(words, reverse=False)\n",
    "for word in words:\n",
    "    print(*word,sep='')"
   ]
  },
  {
   "cell_type": "code",
   "execution_count": null,
   "id": "180bd97a",
   "metadata": {},
   "outputs": [],
   "source": [
    "# itertools compinations"
   ]
  },
  {
   "cell_type": "code",
   "execution_count": 13,
   "id": "3eed157b",
   "metadata": {},
   "outputs": [
    {
     "name": "stdout",
     "output_type": "stream",
     "text": [
      "HACK 2\n",
      "A\n",
      "C\n",
      "H\n",
      "K\n",
      "AC\n",
      "AH\n",
      "AK\n",
      "CH\n",
      "CK\n",
      "HK\n"
     ]
    }
   ],
   "source": [
    "# Enter your code here. Read input from STDIN. Print output to STDOUT\n",
    "from itertools import combinations\n",
    "inp = input().split()\n",
    "s = inp[0]\n",
    "k = int(inp[1])\n",
    "for i in range(1,k+1):\n",
    "    for j in combinations(sorted(s),i):\n",
    "        print(\"\".join(j))\n"
   ]
  },
  {
   "cell_type": "code",
   "execution_count": 14,
   "id": "c037ed16",
   "metadata": {},
   "outputs": [],
   "source": [
    "# combinations_with_replacement"
   ]
  },
  {
   "cell_type": "code",
   "execution_count": 15,
   "id": "e2d546fd",
   "metadata": {},
   "outputs": [
    {
     "name": "stdout",
     "output_type": "stream",
     "text": [
      "HACK 2\n",
      "AA\n",
      "AC\n",
      "AH\n",
      "AK\n",
      "CC\n",
      "CH\n",
      "CK\n",
      "HH\n",
      "HK\n",
      "KK\n"
     ]
    }
   ],
   "source": [
    "# Enter your code here. Read input from STDIN. Print output to STDOUT\n",
    "from itertools import combinations_with_replacement\n",
    "inp = input().split()\n",
    "s = sorted(inp[0])\n",
    "k = int(inp[1])\n",
    "for i in combinations_with_replacement(s,k):\n",
    "    print(\"\".join(i))\n"
   ]
  },
  {
   "cell_type": "code",
   "execution_count": 16,
   "id": "5f042cac",
   "metadata": {},
   "outputs": [],
   "source": [
    "# compress the string"
   ]
  },
  {
   "cell_type": "code",
   "execution_count": 17,
   "id": "871cb6b6",
   "metadata": {},
   "outputs": [
    {
     "name": "stdout",
     "output_type": "stream",
     "text": [
      "1222311\n",
      "(1, 1) (3, 2) (1, 3) (2, 1) "
     ]
    }
   ],
   "source": [
    "# Enter your code here. Read input from STDIN. Print output to STDOUT\n",
    "from itertools import *\n",
    "\n",
    "inp = input()\n",
    "for i,j in groupby(map(int,list(inp))):\n",
    "    print(tuple([len(list(j)), i]) ,end = \" \")"
   ]
  },
  {
   "cell_type": "code",
   "execution_count": 18,
   "id": "224d9d2f",
   "metadata": {},
   "outputs": [],
   "source": [
    "# iterables & iterators"
   ]
  },
  {
   "cell_type": "code",
   "execution_count": 20,
   "id": "bc8f1fc8",
   "metadata": {},
   "outputs": [
    {
     "name": "stdout",
     "output_type": "stream",
     "text": [
      "4\n",
      "a a c d\n",
      "2\n",
      "0.8333333333333334\n"
     ]
    }
   ],
   "source": [
    "# Enter your code here. Read input from STDIN. Print output to STDOUT\n",
    "from itertools import combinations\n",
    "\n",
    "N = int(input())\n",
    "D = input().split()\n",
    "K = int(input())\n",
    "\n",
    "contain = 0\n",
    "total = 0\n",
    "\n",
    "for c in combinations(D, K):\n",
    "    if \"a\" in c:\n",
    "        contain += 1\n",
    "    total += 1\n",
    "print(contain/total)\n",
    "                        "
   ]
  },
  {
   "cell_type": "code",
   "execution_count": 21,
   "id": "675573e3",
   "metadata": {},
   "outputs": [],
   "source": [
    "# maximize it"
   ]
  },
  {
   "cell_type": "code",
   "execution_count": 22,
   "id": "99fe4231",
   "metadata": {},
   "outputs": [
    {
     "name": "stdout",
     "output_type": "stream",
     "text": [
      "3 1000\n",
      "2 5 4\n",
      "3 7 8 9\n",
      "5 5 7 8 9 10\n",
      "206\n"
     ]
    }
   ],
   "source": [
    "# Enter your code here. Read input from STDIN. Print output to STDOUT\n",
    "from itertools import product\n",
    "\n",
    "K, M = map(int,input().split())\n",
    "\n",
    "N = (list(map(int, input().split()))[1:] for _ in range(K))\n",
    "\n",
    "max_lst = []\n",
    "for item in product(*N):\n",
    "    S = 0\n",
    "    for val in item:\n",
    "        S += val**2\n",
    "    S_max = S % M\n",
    "    max_lst.append(S_max)\n",
    "    \n",
    "print(max(max_lst))"
   ]
  },
  {
   "cell_type": "code",
   "execution_count": null,
   "id": "013a0031",
   "metadata": {},
   "outputs": [],
   "source": []
  }
 ],
 "metadata": {
  "kernelspec": {
   "display_name": "Python 3 (ipykernel)",
   "language": "python",
   "name": "python3"
  },
  "language_info": {
   "codemirror_mode": {
    "name": "ipython",
    "version": 3
   },
   "file_extension": ".py",
   "mimetype": "text/x-python",
   "name": "python",
   "nbconvert_exporter": "python",
   "pygments_lexer": "ipython3",
   "version": "3.9.7"
  }
 },
 "nbformat": 4,
 "nbformat_minor": 5
}
