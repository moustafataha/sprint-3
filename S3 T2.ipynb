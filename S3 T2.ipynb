{
 "cells": [
  {
   "cell_type": "code",
   "execution_count": 1,
   "id": "82d9f6f3",
   "metadata": {},
   "outputs": [],
   "source": [
    "# collections.counter()"
   ]
  },
  {
   "cell_type": "code",
   "execution_count": 2,
   "id": "7788f682",
   "metadata": {},
   "outputs": [
    {
     "name": "stdout",
     "output_type": "stream",
     "text": [
      "10\n",
      "2 3 4 5 6 8 7 6 5 18\n",
      "6\n",
      "6 55\n",
      "6 45\n",
      "6 55\n",
      "4 40\n",
      "18 60\n",
      "10 50\n",
      "200\n"
     ]
    }
   ],
   "source": [
    "# Enter your code here. Read input from STDIN. Print output to STDOUT\n",
    "import collections\n",
    "\n",
    "numShoes = int(input())\n",
    "shoes = collections.Counter(map(int, input().split()))\n",
    "numCust = int(input())\n",
    "\n",
    "income = 0\n",
    "\n",
    "for i in range(numCust):\n",
    "    size, price = map(int, input().split())\n",
    "    if shoes[size]: \n",
    "        income += price\n",
    "        shoes[size] -= 1\n",
    "\n",
    "print(income)"
   ]
  },
  {
   "cell_type": "code",
   "execution_count": 3,
   "id": "aac0beb7",
   "metadata": {},
   "outputs": [],
   "source": [
    "# default dict"
   ]
  },
  {
   "cell_type": "code",
   "execution_count": 4,
   "id": "1506a16f",
   "metadata": {},
   "outputs": [
    {
     "name": "stdout",
     "output_type": "stream",
     "text": [
      "5 2\n",
      "a\n",
      "a\n",
      "b\n",
      "a\n",
      "b\n",
      "a\n",
      "1 2 4\n",
      "b\n",
      "3 5\n"
     ]
    }
   ],
   "source": [
    "# Enter your code here. Read input from STDIN. Print output to STDOUT\n",
    "from collections import defaultdict\n",
    "\n",
    "n, m = map(int,input().split())\n",
    "\n",
    "a = defaultdict(list)\n",
    "for i in range(1, n + 1):\n",
    "    a[input()].append(i)\n",
    "\n",
    "for i in range(1, m + 1):\n",
    "    key = input()\n",
    "    if len(a[key]) > 0:\n",
    "        print(\" \".join(str(c) for c in a[key]))\n",
    "    else:\n",
    "        print(-1)"
   ]
  },
  {
   "cell_type": "code",
   "execution_count": 5,
   "id": "d085f9c4",
   "metadata": {},
   "outputs": [],
   "source": [
    "# collections.namedtupule"
   ]
  },
  {
   "cell_type": "code",
   "execution_count": null,
   "id": "af58fff9",
   "metadata": {},
   "outputs": [],
   "source": [
    "# Enter your code here. Read input from STDIN. Print output to STDOUT\n",
    "import collections\n",
    "\n",
    "n = int(input())\n",
    "scol = ','.join(input().split())\n",
    "Student = collections.namedtuple('Student',scol)\n",
    "\n",
    "sum = 0\n",
    "for i in range(n):\n",
    "    row = input().split()\n",
    "    student = Student(*row)\n",
    "    sum += int(student.MARKS)\n",
    "\n",
    "print(sum/n)"
   ]
  },
  {
   "cell_type": "code",
   "execution_count": null,
   "id": "1c6e524d",
   "metadata": {},
   "outputs": [],
   "source": [
    "# collections.ordered dict()"
   ]
  },
  {
   "cell_type": "code",
   "execution_count": null,
   "id": "68e84a89",
   "metadata": {},
   "outputs": [],
   "source": [
    "from collections import*;\n",
    "N = int(input());\n",
    "d = OrderedDict();\n",
    "for i in range(N):\n",
    "    item = input().split()\n",
    "    itemPrice = int(item[-1])\n",
    "    itemName = \" \".join(item[:-1])\n",
    "    if(d.get(itemName)):\n",
    "        d[itemName] += itemPrice\n",
    "    else:\n",
    "        d[itemName] = itemPrice\n",
    "for i in d.keys():\n",
    "    print(i, d[i])"
   ]
  },
  {
   "cell_type": "code",
   "execution_count": null,
   "id": "116e290f",
   "metadata": {},
   "outputs": [],
   "source": [
    "# word order"
   ]
  },
  {
   "cell_type": "code",
   "execution_count": null,
   "id": "16209e2c",
   "metadata": {},
   "outputs": [],
   "source": [
    "import collections;\n",
    "\n",
    "N = int(input())\n",
    "d = collections.OrderedDict()\n",
    "\n",
    "for i in range(N):\n",
    "    word = input()\n",
    "    if word in d:\n",
    "        d[word] +=1\n",
    "    else:\n",
    "        d[word] = 1\n",
    "\n",
    "print(len(d));\n",
    "\n",
    "for k,v in d.items():\n",
    "    print(v,end = \" \")"
   ]
  },
  {
   "cell_type": "code",
   "execution_count": null,
   "id": "d570b128",
   "metadata": {},
   "outputs": [],
   "source": [
    "# collections.deque()"
   ]
  },
  {
   "cell_type": "code",
   "execution_count": null,
   "id": "189020fe",
   "metadata": {},
   "outputs": [],
   "source": [
    "from collections import deque\n",
    "n = int(input())\n",
    "d = deque()\n",
    "for _ in range(n):\n",
    "    lst = list(input().split())\n",
    "    if lst[0]=='append':\n",
    "        d.append(int(lst[1]))\n",
    "    elif lst[0]=='appendleft':\n",
    "        d.appendleft(int(lst[1]))\n",
    "    elif lst[0]=='popleft':\n",
    "        d.popleft()\n",
    "    elif lst[0]=='pop':\n",
    "        d.pop()\n",
    "for i in d:\n",
    "    print(i,end=\" \")"
   ]
  },
  {
   "cell_type": "code",
   "execution_count": null,
   "id": "75ac55d0",
   "metadata": {},
   "outputs": [],
   "source": [
    "# pillling up"
   ]
  },
  {
   "cell_type": "code",
   "execution_count": null,
   "id": "79197289",
   "metadata": {},
   "outputs": [],
   "source": [
    "from collections import deque\n",
    "\n",
    "N = int(input())\n",
    "\n",
    "for _ in range(N):\n",
    "    flag = True\n",
    "    input()\n",
    "    d = deque(map(int, input().strip().split()))\n",
    "    if(d[0] >= d[-1]):\n",
    "        max = d.popleft()\n",
    "    else:\n",
    "        max = d.pop()\n",
    "    while d:\n",
    "        if(len(d)==1):\n",
    "            if(d[0] <= max):\n",
    "                break\n",
    "            else:\n",
    "                flag = False\n",
    "                break\n",
    "        else:\n",
    "            if(d[0]<=max and d[-1]<=max):\n",
    "                if(d[0]>=d[-1]):\n",
    "                    max = d.popleft()\n",
    "                else:\n",
    "                    max = d.pop()\n",
    "            elif(d[0]<=max):\n",
    "                max = d.popleft()\n",
    "            elif(d[-1]<=max):\n",
    "                max = d.pop()\n",
    "            else:\n",
    "                flag = False\n",
    "                break\n",
    "    if flag:\n",
    "        print(\"Yes\")\n",
    "    else:\n",
    "        print(\"No\")"
   ]
  },
  {
   "cell_type": "code",
   "execution_count": null,
   "id": "8c0c2790",
   "metadata": {},
   "outputs": [],
   "source": [
    "# company logo"
   ]
  },
  {
   "cell_type": "code",
   "execution_count": null,
   "id": "d65e6dab",
   "metadata": {},
   "outputs": [],
   "source": [
    "#!/bin/python3\n",
    "\n",
    "import math\n",
    "import os\n",
    "import random\n",
    "import re\n",
    "import sys\n",
    "import collections\n",
    "\n",
    "\n",
    "if __name__ == '__main__':\n",
    "    s = sorted(input().strip())\n",
    "    s_counter = collections.Counter(s).most_common()\n",
    "    s_counter = sorted(s_counter, key=lambda x: (x[1] * -1, x[0]))\n",
    "    for i in range(0, 3):\n",
    "        print(s_counter[i][0], s_counter[i][1])\n"
   ]
  },
  {
   "cell_type": "code",
   "execution_count": null,
   "id": "15b469f6",
   "metadata": {},
   "outputs": [],
   "source": []
  }
 ],
 "metadata": {
  "kernelspec": {
   "display_name": "Python 3 (ipykernel)",
   "language": "python",
   "name": "python3"
  },
  "language_info": {
   "codemirror_mode": {
    "name": "ipython",
    "version": 3
   },
   "file_extension": ".py",
   "mimetype": "text/x-python",
   "name": "python",
   "nbconvert_exporter": "python",
   "pygments_lexer": "ipython3",
   "version": "3.9.7"
  }
 },
 "nbformat": 4,
 "nbformat_minor": 5
}
