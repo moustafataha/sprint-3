{
 "cells": [
  {
   "cell_type": "code",
   "execution_count": 1,
   "id": "00a4e6a9",
   "metadata": {},
   "outputs": [],
   "source": [
    "# find the score"
   ]
  },
  {
   "cell_type": "code",
   "execution_count": 2,
   "id": "60085ef0",
   "metadata": {},
   "outputs": [
    {
     "ename": "IndentationError",
     "evalue": "expected an indented block (Temp/ipykernel_103464/1019506573.py, line 10)",
     "output_type": "error",
     "traceback": [
      "\u001b[1;36m  File \u001b[1;32m\"C:\\Users\\Moustafa\\AppData\\Local\\Temp/ipykernel_103464/1019506573.py\"\u001b[1;36m, line \u001b[1;32m10\u001b[0m\n\u001b[1;33m    if __name__ == '__main__':\u001b[0m\n\u001b[1;37m                              ^\u001b[0m\n\u001b[1;31mIndentationError\u001b[0m\u001b[1;31m:\u001b[0m expected an indented block\n"
     ]
    }
   ],
   "source": [
    "import sys\n",
    "import xml.etree.ElementTree as etree\n",
    "\n",
    "def get_attr_number(node):\n",
    "    # your code goes here\n",
    "     count = 0\n",
    "     for tag in node:\n",
    "        count = count + get_attr_number(tag)\n",
    "     return count + len(node.attrib)\n",
    "if __name__ == '__main__':"
   ]
  },
  {
   "cell_type": "code",
   "execution_count": 3,
   "id": "e2d62708",
   "metadata": {},
   "outputs": [],
   "source": [
    "# array math"
   ]
  },
  {
   "cell_type": "code",
   "execution_count": null,
   "id": "ecd60b14",
   "metadata": {},
   "outputs": [],
   "source": [
    "import numpy\n",
    "\n",
    "N, M = map(int, input().split())\n",
    "\n",
    "A = numpy.array([list(map(int, input().split())) for n in range(N)])\n",
    "B = numpy.array([list(map(int, input().split())) for n in range(N)])\n",
    "\n",
    "print(A + B)\n",
    "print(A - B)\n",
    "print(A * B)\n",
    "print(A // B)\n",
    "print(A % B)\n",
    "print(A ** B)"
   ]
  },
  {
   "cell_type": "code",
   "execution_count": null,
   "id": "f1b0c539",
   "metadata": {},
   "outputs": [],
   "source": [
    "#Floor, Ceil and Rint"
   ]
  },
  {
   "cell_type": "code",
   "execution_count": null,
   "id": "3e3951c1",
   "metadata": {},
   "outputs": [],
   "source": [
    "import numpy\n",
    "\n",
    "numpy.set_printoptions(sign=' ')\n",
    "\n",
    "array = numpy.array(input().split(),float)\n",
    "\n",
    "print(numpy.floor(array))\n",
    "print(numpy.ceil(array))\n",
    "print(numpy.rint(array))\n"
   ]
  },
  {
   "cell_type": "code",
   "execution_count": 1,
   "id": "9febec5c",
   "metadata": {},
   "outputs": [],
   "source": [
    "# numpy.sum"
   ]
  },
  {
   "cell_type": "code",
   "execution_count": null,
   "id": "33cfccc3",
   "metadata": {},
   "outputs": [],
   "source": [
    "import numpy\n",
    "\n",
    "N, M = map(int, input().split())\n",
    "A = numpy.array([input().split() for _ in range(N)], int)\n",
    "print(numpy.prod(numpy.sum(A, axis=0), axis=0))\n",
    "\n"
   ]
  },
  {
   "cell_type": "code",
   "execution_count": null,
   "id": "6374048e",
   "metadata": {},
   "outputs": [],
   "source": [
    "# min and max"
   ]
  },
  {
   "cell_type": "code",
   "execution_count": null,
   "id": "8e4aec0d",
   "metadata": {},
   "outputs": [],
   "source": [
    "import numpy\n",
    "\n",
    "N, M = map(int, input().split())\n",
    "storage = numpy.array([input().split() for _ in range(N)],int)\n",
    "print(numpy.max(numpy.min(storage, axis=1), axis=0))\n",
    "\n",
    "\n"
   ]
  },
  {
   "cell_type": "code",
   "execution_count": null,
   "id": "de91615a",
   "metadata": {},
   "outputs": [],
   "source": [
    "# mean, var & std"
   ]
  },
  {
   "cell_type": "code",
   "execution_count": null,
   "id": "644a9e0a",
   "metadata": {},
   "outputs": [],
   "source": [
    "import numpy\n",
    "\n",
    "N,M = map(int, input().split(\" \"))\n",
    "A = numpy.array([input().split() for _ in range(N)],int)\n",
    "print(numpy.mean(A, axis = 1))\n",
    "print(numpy.var(A, axis = 0))\n",
    "print(round(numpy.std(A, axis = None),11))"
   ]
  },
  {
   "cell_type": "code",
   "execution_count": null,
   "id": "29aaf958",
   "metadata": {},
   "outputs": [],
   "source": [
    "# dot & cross"
   ]
  },
  {
   "cell_type": "code",
   "execution_count": null,
   "id": "1f762cf7",
   "metadata": {},
   "outputs": [],
   "source": [
    "import numpy\n",
    "\n",
    "n = int(input())\n",
    "a = numpy.array([input().split() for _ in range(n)], int)\n",
    "b = numpy.array([input().split() for _ in range(n)], int)\n",
    "print(numpy.dot(a, b))\n",
    "\n"
   ]
  },
  {
   "cell_type": "code",
   "execution_count": null,
   "id": "e87d0abd",
   "metadata": {},
   "outputs": [],
   "source": [
    "# inner & outer"
   ]
  },
  {
   "cell_type": "code",
   "execution_count": null,
   "id": "36ffd6ce",
   "metadata": {},
   "outputs": [],
   "source": [
    "import numpy\n",
    "\n",
    "A = numpy.array(input().split(), int)\n",
    "B = numpy.array(input().split(), int)\n",
    "print(numpy.inner(A, B), numpy.outer(A, B), sep='\\n')\n",
    "\n"
   ]
  },
  {
   "cell_type": "code",
   "execution_count": null,
   "id": "f2500502",
   "metadata": {},
   "outputs": [],
   "source": [
    "# polynomials"
   ]
  },
  {
   "cell_type": "code",
   "execution_count": null,
   "id": "8f5fe63f",
   "metadata": {},
   "outputs": [],
   "source": [
    "import numpy\n",
    "\n",
    "coefs=list(map(float,input().split()))\n",
    "x=float(input())\n",
    "\n",
    "print(numpy.polyval(coefs,x))\n",
    "\n"
   ]
  },
  {
   "cell_type": "code",
   "execution_count": null,
   "id": "34541eb4",
   "metadata": {},
   "outputs": [],
   "source": [
    "# linear algebra"
   ]
  },
  {
   "cell_type": "code",
   "execution_count": null,
   "id": "2a93864d",
   "metadata": {},
   "outputs": [],
   "source": [
    "import numpy\n",
    "N = int(input())\n",
    "A = numpy.array([input().split() for _ in range(N)], float)\n",
    "print(round(numpy.linalg.det(A),2))\n",
    "\n",
    "\n"
   ]
  },
  {
   "cell_type": "code",
   "execution_count": null,
   "id": "0f056b9a",
   "metadata": {},
   "outputs": [],
   "source": [
    "# eye & identity"
   ]
  },
  {
   "cell_type": "code",
   "execution_count": null,
   "id": "cac2c162",
   "metadata": {},
   "outputs": [],
   "source": [
    "import numpy\n",
    "\n",
    "print(str(numpy.eye(*map(int,input().split()))).replace('1',' 1').replace('0',' 0'))\n",
    "\n",
    "\n"
   ]
  },
  {
   "cell_type": "code",
   "execution_count": null,
   "id": "5492a9b1",
   "metadata": {},
   "outputs": [],
   "source": [
    "# arrays"
   ]
  },
  {
   "cell_type": "code",
   "execution_count": null,
   "id": "ef972fdc",
   "metadata": {},
   "outputs": [],
   "source": [
    "import numpy\n",
    "\n",
    "def arrays(arr):\n",
    "    # complete this function\n",
    "    # use numpy.array\n",
    "    return(numpy.array(arr[::-1], float))\n",
    "\n",
    "arr = input().strip().split(' ')"
   ]
  },
  {
   "cell_type": "code",
   "execution_count": null,
   "id": "f7478b8b",
   "metadata": {},
   "outputs": [],
   "source": [
    "# reshape"
   ]
  },
  {
   "cell_type": "code",
   "execution_count": null,
   "id": "cbe627ff",
   "metadata": {},
   "outputs": [],
   "source": [
    "import numpy\n",
    "\n",
    "print(numpy.array(input().split(), int).reshape(3, 3))\n",
    "\n",
    "\n"
   ]
  },
  {
   "cell_type": "code",
   "execution_count": null,
   "id": "0efcc787",
   "metadata": {},
   "outputs": [],
   "source": [
    "# transpose and flatten"
   ]
  },
  {
   "cell_type": "code",
   "execution_count": null,
   "id": "364e8d6e",
   "metadata": {},
   "outputs": [],
   "source": [
    "import numpy\n",
    "n, m = map(int, input().split())\n",
    "\n",
    "storage = numpy.array([input().strip().split() for _ in range(n)], int)\n",
    "print (storage.transpose())\n",
    "print (storage.flatten())\n",
    "\n",
    "\n"
   ]
  },
  {
   "cell_type": "code",
   "execution_count": null,
   "id": "0472b695",
   "metadata": {},
   "outputs": [],
   "source": [
    "# concatenate"
   ]
  },
  {
   "cell_type": "code",
   "execution_count": null,
   "id": "a203fc39",
   "metadata": {},
   "outputs": [],
   "source": [
    "import numpy\n",
    "\n",
    "P, N, M = map(int,input().split())\n",
    "A = numpy.array([input().split() for _ in range(P)],int)\n",
    "B = numpy.array([input().split() for _ in range(N)],int)\n",
    "print(numpy.concatenate((A, B), axis = 0))\n",
    "\n"
   ]
  },
  {
   "cell_type": "code",
   "execution_count": null,
   "id": "42a20e15",
   "metadata": {},
   "outputs": [],
   "source": [
    "# zeros and ones"
   ]
  },
  {
   "cell_type": "code",
   "execution_count": null,
   "id": "68a43bd5",
   "metadata": {},
   "outputs": [],
   "source": [
    "import numpy\n",
    "N = tuple(map(int, input().split()))\n",
    "print(numpy.zeros(N, int))\n",
    "print(numpy.ones(N, int))\n",
    "\n",
    "\n"
   ]
  },
  {
   "cell_type": "code",
   "execution_count": null,
   "id": "c60bd116",
   "metadata": {},
   "outputs": [],
   "source": [
    "# decoratores 2"
   ]
  },
  {
   "cell_type": "code",
   "execution_count": null,
   "id": "65358311",
   "metadata": {},
   "outputs": [],
   "source": [
    "import operator\n",
    "\n",
    "def person_lister(f):\n",
    "    def inner(people):\n",
    "        # complete the function\n",
    "        return map(f, sorted(people, key=lambda x: int(x[2])))\n",
    "\n",
    "    return inner\n",
    "\n",
    "@person_lister"
   ]
  },
  {
   "cell_type": "code",
   "execution_count": null,
   "id": "01ad541a",
   "metadata": {},
   "outputs": [],
   "source": [
    "# word score"
   ]
  },
  {
   "cell_type": "code",
   "execution_count": null,
   "id": "c2f9a845",
   "metadata": {},
   "outputs": [],
   "source": [
    "def is_vowel(letter):\n",
    "    return letter in ['a', 'e', 'i', 'o', 'u', 'y']\n",
    "\n",
    "def score_words(words):\n",
    "    score = 0\n",
    "    for word in words:\n",
    "        num_vowels = 0\n",
    "        for letter in word:\n",
    "            if is_vowel(letter):\n",
    "                num_vowels += 1\n",
    "        if num_vowels % 2 == 0:\n",
    "            score += 2\n",
    "        else:\n",
    "            score += 1\n",
    "    return score\n",
    "\n"
   ]
  },
  {
   "cell_type": "code",
   "execution_count": null,
   "id": "09f629f1",
   "metadata": {},
   "outputs": [],
   "source": [
    "# default argument"
   ]
  },
  {
   "cell_type": "code",
   "execution_count": null,
   "id": "7835fe0a",
   "metadata": {},
   "outputs": [],
   "source": [
    "class EvenStream(object):\n",
    "    def __init__(self):\n",
    "        self.current = 0\n",
    "\n",
    "    def get_next(self):\n",
    "        to_return = self.current\n",
    "        self.current += 2\n",
    "        return to_return\n",
    "\n",
    "class OddStream(object):\n",
    "    def __init__(self):\n",
    "        self.current = 1\n",
    "\n",
    "    def get_next(self):\n",
    "        to_return = self.current\n",
    "        self.current += 2\n",
    "        return to_return\n",
    "\n",
    "def print_from_stream(n, stream=EvenStream()):\n",
    "    for _ in range(n):\n",
    "        print(stream.get_next())\n",
    "    raw_input = input\n",
    "\n",
    "def print_from_stream(n, stream = None):\n",
    "    if not stream:\n",
    "        stream = EvenStream()\n",
    "        \n",
    "    for _ in range(n):\n",
    "        print(stream.get_next())\n",
    "\n",
    "\n"
   ]
  },
  {
   "cell_type": "code",
   "execution_count": null,
   "id": "a22dd8f8",
   "metadata": {},
   "outputs": [],
   "source": [
    "# standarize mobile numbers"
   ]
  },
  {
   "cell_type": "code",
   "execution_count": null,
   "id": "8c1ebbdf",
   "metadata": {},
   "outputs": [],
   "source": [
    "def wrapper(f):\n",
    "    def fun(l):\n",
    "        # complete the function\n",
    "        f(['+91 ' + c[-10:-5] + ' ' + c[-5:] for c in l])\n",
    "\n",
    "    return fun\n",
    "\n",
    "@wrapper"
   ]
  },
  {
   "cell_type": "code",
   "execution_count": null,
   "id": "f0d27b18",
   "metadata": {},
   "outputs": [],
   "source": []
  }
 ],
 "metadata": {
  "kernelspec": {
   "display_name": "Python 3 (ipykernel)",
   "language": "python",
   "name": "python3"
  },
  "language_info": {
   "codemirror_mode": {
    "name": "ipython",
    "version": 3
   },
   "file_extension": ".py",
   "mimetype": "text/x-python",
   "name": "python",
   "nbconvert_exporter": "python",
   "pygments_lexer": "ipython3",
   "version": "3.9.7"
  }
 },
 "nbformat": 4,
 "nbformat_minor": 5
}
